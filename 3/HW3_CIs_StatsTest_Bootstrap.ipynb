{
 "cells": [
  {
   "cell_type": "markdown",
   "id": "c768e2f3",
   "metadata": {},
   "source": [
    "## Homework 03: due 22:00, Sunday, December 5, 2021\n",
    "\n",
    "### -\tPlease work on this Jupyter notebook directly.\n",
    "### -\tName a folder using your student id and Assignment number (e.g., b88501045-HW3), put all the python scripts and notebook files into the folder and zip the folder (e.g., b88501045-HW3.zip).\n",
    "### - Submit the homework directly through the NTU COOL course website.\n"
   ]
  },
  {
   "cell_type": "markdown",
   "id": "ee0691f5",
   "metadata": {},
   "source": [
    "#### 0. Import essential modules"
   ]
  },
  {
   "cell_type": "code",
   "execution_count": 1,
   "id": "c46f1dc5",
   "metadata": {},
   "outputs": [],
   "source": [
    "import scipy.stats as stats\n",
    "import numpy as np\n",
    "import random\n",
    "import pandas as pd\n",
    "import math\n",
    "import matplotlib.pyplot as plt"
   ]
  },
  {
   "cell_type": "markdown",
   "id": "7ed3d08a",
   "metadata": {},
   "source": [
    "#### 1. (30%) Consider the following dataset, sampled from a distribution H. We would like to know the confidence intervals for some of their given statistical properties."
   ]
  },
  {
   "cell_type": "code",
   "execution_count": 2,
   "id": "737af2d9",
   "metadata": {},
   "outputs": [],
   "source": [
    "samples = [28.82, 22.00, 24.89, 31.20, 29.34, 15.11, 24.75, 19.24, 19.48,\n",
    "       22.05, 20.72, 27.27, 23.81, 20.61, 22.22, 21.67, 27.47, 18.97,\n",
    "       21.57, 15.73,  7.24, 23.27, 24.32, 16.29, 31.35, 12.73, 20.23,\n",
    "       19.06, 27.66, 27.35, 20.77, 21.89, 15.56, 10.10, 18.26, 20.78,\n",
    "       26.15, 26.01, 18.06, 18.49]"
   ]
  },
  {
   "cell_type": "markdown",
   "id": "c86511e5",
   "metadata": {},
   "source": [
    "#### Please complete the following tasks."
   ]
  },
  {
   "cell_type": "markdown",
   "id": "a4f7554a",
   "metadata": {},
   "source": [
    "##### 1.1 (10%) Assuming that the population standard deviation is well estimated by the sample standard deviation, find the 95% (two-sided) confidence level for the population mean. "
   ]
  },
  {
   "cell_type": "code",
   "execution_count": 3,
   "id": "2323c86c",
   "metadata": {},
   "outputs": [
    {
     "name": "stdout",
     "output_type": "stream",
     "text": [
      "The lower confidence limit is 19.8922\n",
      "The upper confidence limit is 23.2323\n"
     ]
    }
   ],
   "source": [
    "sample_mean = np.mean(samples)\n",
    "sample_stdev = np.std(samples,ddof=1)\n",
    "n=len(samples)\n",
    "population_stdev = sample_stdev/math.sqrt(n)\n",
    "\n",
    "z_25 = stats.norm.ppf(0.025)\n",
    "z_975 = stats.norm.ppf(0.975)\n",
    "\n",
    "q_25 = sample_mean + z_25*population_stdev\n",
    "q_975 = sample_mean + z_975*population_stdev\n",
    "\n",
    "print('The lower confidence limit is', format(q_25,'.4f'))\n",
    "print('The upper confidence limit is', format(q_975, '.4f'))"
   ]
  },
  {
   "cell_type": "markdown",
   "id": "5b2c862c",
   "metadata": {},
   "source": [
    "##### 1.2 (10%) Assuming that the population standard deviation is unknown, estimate the 95% (two-sided) confidence level for the population mean."
   ]
  },
  {
   "cell_type": "code",
   "execution_count": 4,
   "id": "7a912844",
   "metadata": {},
   "outputs": [
    {
     "name": "stdout",
     "output_type": "stream",
     "text": [
      "The lower confidence limit is 19.8388\n",
      "The upper confidence limit is 23.2857\n"
     ]
    }
   ],
   "source": [
    "sample_mean = np.mean(samples)\n",
    "sample_stdev = np.std(samples,ddof=1)\n",
    "n=len(samples)\n",
    "dof = n-1\n",
    "\n",
    "t_25_dof = stats.t.ppf(0.025, df=dof)\n",
    "t_975_dof = stats.t.ppf(0.975, df=dof)\n",
    "\n",
    "q_25 = sample_mean + t_25_dof*sample_stdev/math.sqrt(n)\n",
    "q_975 = sample_mean + t_975_dof*sample_stdev/math.sqrt(n)\n",
    "\n",
    "print('The lower confidence limit is', format(q_25,'.4f'))\n",
    "print('The upper confidence limit is', format(q_975, '.4f'))"
   ]
  },
  {
   "cell_type": "markdown",
   "id": "f62cc664",
   "metadata": {},
   "source": [
    "##### 1.3 (10%) Find the 95% (two-sided) confidence level for the population standard deviation."
   ]
  },
  {
   "cell_type": "code",
   "execution_count": 5,
   "id": "9ea7a225",
   "metadata": {},
   "outputs": [
    {
     "name": "stdout",
     "output_type": "stream",
     "text": [
      "The upper confidence limit is 6.9196\n",
      "The lower confidence limit is 4.4144\n"
     ]
    }
   ],
   "source": [
    "sample_stdev = np.mean(samples)\n",
    "sample_stdev = np.std(samples,ddof=1)\n",
    "sample_var = sample_stdev*sample_stdev\n",
    "n=len(samples)\n",
    "dof = n-1\n",
    "\n",
    "z_025 = stats.chi2.ppf(0.025, df=dof)\n",
    "z_975 = stats.chi2.ppf(0.975, df=dof)\n",
    "\n",
    "q_025 = sample_var*(n-1)/z_025\n",
    "q_975 = sample_var*(n-1)/z_975\n",
    "\n",
    "#upper & lower換位置\n",
    "print('The upper confidence limit is', format(math.sqrt(q_025),'.4f'))\n",
    "print('The lower confidence limit is', format(math.sqrt(q_975), '.4f'))"
   ]
  },
  {
   "cell_type": "markdown",
   "id": "8caa4c35",
   "metadata": {},
   "source": [
    "#### 2. (30%) From the attached data file _ETH-Kobo_Jan.csv_, you can find historical January rainfall for 1993-2020 in Kobo, Ethiopia. Suppose that rainfall data follows the Gamma distribution, Gamma(α,β), where α=0.86 and β=74.28. Please complete the following tasks."
   ]
  },
  {
   "cell_type": "code",
   "execution_count": 6,
   "id": "8015cd50",
   "metadata": {},
   "outputs": [],
   "source": [
    "fn_data = \"/Users/lintingxuan/Desktop/HW3/ETH-Kobo_Jan.csv\"\n",
    "# read csv file, a dataframe will be created to store data\n",
    "df_rain_1d = pd.read_csv(fn_data)\n",
    "kobo= df_rain_1d['Kobo'].tolist()\n",
    "sample_mean = np.mean(kobo)\n",
    "sample_stdev = np.std(kobo, ddof = 1)\n",
    "sample_alpha=0.86\n",
    "sample_beta=74.28"
   ]
  },
  {
   "cell_type": "code",
   "execution_count": 7,
   "id": "b853896c",
   "metadata": {},
   "outputs": [],
   "source": [
    "nBootstraps = 100\n",
    "nSamples = len(kobo)\n",
    "\n",
    "# random seed is set to 0 (or any other integer) to ensure the sampling result remain the same\n",
    "np.random.seed(0)\n",
    "# Convert sample list to a numpy array\n",
    "np_samples = np.array(kobo)\n",
    "\n",
    "# arrays to record sample means and standard deviations resulting from resampling\n",
    "resamples_mean = np.zeros(nBootstraps)\n",
    "resamples_std = np.zeros(nBootstraps)\n",
    "resamples_alpha = np.zeros(nBootstraps)\n",
    "resamples_beta = np.zeros(nBootstraps)\n",
    "\n",
    "\n",
    "for b in range(nBootstraps):\n",
    "    # numpy's random.choice is useful to randomly pick a given number of values \n",
    "    # (with replacement when replace is set to True) from the input array \n",
    "    resamples_b = np.random.choice(np_samples, size = nSamples, replace=True)\n",
    "    \n",
    "    # Compute mean and standard deviation from the resampled array\n",
    "    mean_resamples_b = np.mean(resamples_b)\n",
    "    std_resamples_b = np.std(resamples_b, ddof = 1)\n",
    "    alpha_resamples_b,loc_resamples_b,beta_resamples_b=stats.gamma.fit(resamples_b, floc = 0.0)\n",
    "    \n",
    "    resamples_mean[b] = mean_resamples_b\n",
    "    resamples_std[b] = std_resamples_b\n",
    "    resamples_alpha[b] = alpha_resamples_b\n",
    "    resamples_beta[b] = beta_resamples_b\n"
   ]
  },
  {
   "cell_type": "markdown",
   "id": "39172dff",
   "metadata": {},
   "source": [
    "##### 2.1 (15%) Find the 95% (two-sided) confidence level for the population mean using empirical bootstrapping (please set the number of bootstraps as 100)."
   ]
  },
  {
   "cell_type": "code",
   "execution_count": 8,
   "id": "e786f0c1",
   "metadata": {},
   "outputs": [
    {
     "name": "stdout",
     "output_type": "stream",
     "text": [
      "Two-sided 95% CIs for mean using empirical bootstrapping\n",
      "The lower limit of CI for mean = 43.65\n",
      "The upper limit of CI for mean = 83.68\n"
     ]
    }
   ],
   "source": [
    "# For empirical bootstrapping, we have to compute 'delta' \n",
    "# delta - the difference between the sample and resample targetted properties \n",
    "\n",
    "delta_mean =  resamples_mean - sample_mean\n",
    "delta_std = resamples_std - sample_stdev\n",
    "\n",
    "\n",
    "# Obtain the lower and upper CI limits\n",
    "CI_mean_lower, CI_mean_upper = sample_mean - np.percentile(delta_mean,[97.5,2.5])\n",
    "CI_std_lower, CI_std_upper = sample_stdev - np.percentile(delta_std,[97.5,2.5])\n",
    "\n",
    "\n",
    "print('Two-sided 95% CIs for mean using empirical bootstrapping')\n",
    "print('The lower limit of CI for mean =', format(CI_mean_lower, '.2f'))\n",
    "print('The upper limit of CI for mean =', format(CI_mean_upper, '.2f'))"
   ]
  },
  {
   "cell_type": "markdown",
   "id": "60e79ec0",
   "metadata": {},
   "source": [
    "##### 2.2\t(15%) Find the 90% (two-sided) confidence level for the fitted parameters of the Gamma distribution using percentile bootstrapping (please set the number of bootstraps as 100)."
   ]
  },
  {
   "cell_type": "code",
   "execution_count": 9,
   "id": "f442cf39",
   "metadata": {},
   "outputs": [
    {
     "name": "stdout",
     "output_type": "stream",
     "text": [
      "Two-sided 90% CIs for alpha using percentile bootstrapping\n",
      "The lower limit of CI for alpha = 0.12\n",
      "The upper limit of CI for alpha = 1.08\n",
      "Two-sided 90% CIs for beta using percentile bootstrapping\n",
      "The lower limit of CI for beta = 52.50\n",
      "The upper limit of CI for beta = 100.01\n"
     ]
    }
   ],
   "source": [
    "# For the percentile bootstrapping, we just have to use resample taregetted properties.\n",
    "delta_alpha = resamples_alpha - sample_alpha\n",
    "delta_beta = resamples_beta - sample_beta\n",
    "\n",
    "# Obtain the lower and upper CI limits\n",
    "CI_alpha_lower, CI_alpha_upper = sample_alpha - np.percentile(delta_alpha,[95,5])\n",
    "CI_beta_lower, CI_beta_upper = sample_beta - np.percentile(delta_beta,[95,5])\n",
    "\n",
    "\n",
    "print('Two-sided 90% CIs for alpha using percentile bootstrapping')\n",
    "print('The lower limit of CI for alpha =', format(CI_alpha_lower, '.2f'))\n",
    "print('The upper limit of CI for alpha =', format(CI_alpha_upper, '.2f'))\n",
    "\n",
    "print('Two-sided 90% CIs for beta using percentile bootstrapping')\n",
    "print('The lower limit of CI for beta =', format(CI_beta_lower, '.2f'))\n",
    "print('The upper limit of CI for beta =', format(CI_beta_upper, '.2f'))"
   ]
  },
  {
   "cell_type": "markdown",
   "id": "ac192ecd",
   "metadata": {},
   "source": [
    "#### 3. (50%) Taiwan had done a great job in preventing local transmission of COVID-19 for over a year. However, due to a series of unfortunate events, local infections outbroke in May 2020. In the attached file _Covid19_TPE.csv_, you can find the records for the number of infected from 2021/05/15 to 2021/06/13 for Taipei City. Your task is to evaluate if the ‘soft’ lockdown introduced on 2021/05/15 by the Taipei City  work. More specifically, considering the 14-day incubation period of COVID-19, we want to compare if there is a decrease in the average number of infections before and after the 14-day incubation period (i.e., the potential effective date starting on 2021/05/29 in Taipei). Please perform the statstical tests under the following different scenarios."
   ]
  },
  {
   "cell_type": "code",
   "execution_count": 10,
   "id": "55ade961",
   "metadata": {},
   "outputs": [],
   "source": [
    "fn_data = \"/Users/lintingxuan/Desktop/HW3/Covid19_TPE.csv\"\n",
    "# read csv file, a dataframe will be created to store data\n",
    "df_rain_1d = pd.read_csv(fn_data)\n",
    "infect= df_rain_1d['Taipei_Infected'].tolist()\n",
    "infect_1=infect[:14]\n",
    "infect_2=infect[14:]"
   ]
  },
  {
   "cell_type": "markdown",
   "id": "42e90a18",
   "metadata": {},
   "source": [
    "##### 3.1 (10%) Scenario 1 (asymmetric case): $\\mu_A$ is known; $\\mu_B$ is not known; $\\sigma_B=\\sigma_A = \\sigma$\n",
    "\n",
    "1. Null Hypothesis $ H_0: \\mu_A = \\mu_B$\n",
    "2. Alternative Hypothesis $ H_1: \\mu_B> \\mu_A$\n",
    "3. Test statistic $Z = \\frac{\\bar{X}_{B}-\\mu_B}{\\sigma/\\sqrt{n}}$\n",
    "4. Distribution of test statistic $Z \\sim N(0,1)$\n",
    "5. Critical Region $\\Re$: $Z>z_\\alpha$ (e.g. $\\alpha=1$\\%)\n",
    "6. Evaluate $Z$ under $H_0$  & if $z_0>z_\\alpha \\Rightarrow$ Reject $H_0$\n",
    "7. $p$-value: $p(Z>z_0)$"
   ]
  },
  {
   "cell_type": "code",
   "execution_count": 11,
   "id": "be129756",
   "metadata": {},
   "outputs": [
    {
     "name": "stdout",
     "output_type": "stream",
     "text": [
      "test statistic Z = 3.2934\n",
      "z_alpha = 2.3263\n",
      "We have to reject H0, and the p-value is 0.0005\n"
     ]
    }
   ],
   "source": [
    "n_samples1 = len(infect_1)\n",
    "n_samples2 = len(infect_2)\n",
    "f_A_mean_sample = np.mean(infect_1)\n",
    "mu_A = f_A_mean_sample\n",
    "f_A_stdev_sample = np.std(infect_1, ddof=1)\n",
    "sigma = f_A_stdev_sample\n",
    "\n",
    "f_B_mean_sample = np.mean(infect_2)\n",
    "mu_B = mu_A\n",
    "\n",
    "#要加絕對值\n",
    "Z = np.abs((f_B_mean_sample - mu_B)/(sigma/np.sqrt(n_samples1)))\n",
    "\n",
    "alpha = 0.01\n",
    "z_alpha = stats.norm.ppf(1-alpha)\n",
    "\n",
    "print(f'test statistic Z = {Z:.4f}')\n",
    "print(f'z_alpha = {z_alpha:.4f}')\n",
    "\n",
    "if Z > z_alpha:\n",
    "    p_value = 1-stats.norm.cdf(Z)\n",
    "    print(f'We have to reject H0, and the p-value is {p_value:.4f}')\n",
    "else:\n",
    "    print('We have no ground to reject H0')"
   ]
  },
  {
   "cell_type": "markdown",
   "id": "154e27d2",
   "metadata": {},
   "source": [
    "##### 3.2 (10%) Scenario 2 (asymmetric case): $\\mu_A$ is known; $\\mu_B$ is not known; $\\sigma_B$ is not known\n",
    "\n",
    "1. Null Hypothesis $ H_0: \\mu_A = \\mu_B$\n",
    "2. Alternative Hypothesis $ H_1: \\mu_B> \\mu_A$\n",
    "3. Test statistic $T = \\frac{\\bar{X}_{B}-\\mu_B}{\\hat{S_x}_B/\\sqrt{n}}$\n",
    "4. Distribution of test statistic $T \\sim t(n-1)$\n",
    "5. Critical Region $\\Re$: $T>t_{n-1,\\alpha}$ (e.g. $\\alpha=1$\\%)\n",
    "6. Evaluate $T$ under $H_0$  & if $t_0>t_{n-1,\\alpha} \\Rightarrow$ Reject $H_0$\n",
    "7. $p$-value: $p(T>t_0)$"
   ]
  },
  {
   "cell_type": "code",
   "execution_count": 16,
   "id": "3c46f41a",
   "metadata": {},
   "outputs": [
    {
     "name": "stdout",
     "output_type": "stream",
     "text": [
      "test statistic T = 5.2536\n",
      "t_alpha = 2.6025\n",
      "We have to reject H0, and the p-value is 0.0000\n"
     ]
    }
   ],
   "source": [
    "f_A_mean_sample = np.mean(infect_1)\n",
    "mu_A = f_A_mean_sample\n",
    "\n",
    "f_B_mean_sample = np.mean(infect_2)\n",
    "mu_B = mu_A\n",
    "f_B_stdev_sample = np.std(infect_2, ddof=1)\n",
    "\n",
    "#要加絕對值\n",
    "T = np.abs((f_B_mean_sample - mu_B)/(f_B_stdev_sample/np.sqrt(n_samples2)))\n",
    "\n",
    "df = len(infect_2)-1\n",
    "\n",
    "alpha = 0.01\n",
    "t_alpha = stats.t.ppf(1-alpha,df)\n",
    "\n",
    "print(f'test statistic T = {T:.4f}')\n",
    "print(f't_alpha = {t_alpha:.4f}')\n",
    "\n",
    "if T > t_alpha:\n",
    "    p_value = 1-stats.t.cdf(T,df)\n",
    "    print(f'We have to reject H0, and the p-value is {p_value:.4f}')\n",
    "else:\n",
    "    print('We have no ground to reject H0')"
   ]
  },
  {
   "cell_type": "markdown",
   "id": "e354f3a2",
   "metadata": {},
   "source": [
    "##### 3.3 (10%) Scenario 3 (symmetric case): $\\mu_A$ is not known; $\\mu_B$ is not known; $\\sigma_B$ is known; $\\sigma_A$ is known\n",
    "1. Null Hypothesis: $ H_0: \\mu_A = \\mu_B$\n",
    "2. Alternative Hypothesis: $ H_1: \\mu_A \\neq \\mu_B$\n",
    "3. Test statistic: $Z = \\frac{(\\bar{X}_A - \\bar{X}_B)-(\\mu_A-\\mu_B)}{\\sigma_{{\\bar{X}_A} -{\\bar{X}_B}} }$\n",
    "4. Distribution of test statistic: $Z \\sim N(0,1)$\n",
    "5. Critical Region $\\Re$: $|Z|>z_{\\alpha/2}$ (e.g. $\\alpha=5$\\%)\n",
    "6. Evaluate $Z$ under $H_0$: if $|z_0|>z_{\\alpha/2} \\Rightarrow$ Reject $H_0$\n",
    "7. $p$-value & $p(|Z|>z_0)$\n",
    "\n",
    "where $\\sigma_{{\\bar{X}_A} -{\\bar{X}_B}} = \\sqrt{\\frac{\\sigma_A^2}{n_A} +\\frac {\\sigma_B^2}{n_B} }$ "
   ]
  },
  {
   "cell_type": "code",
   "execution_count": 17,
   "id": "5f899670",
   "metadata": {},
   "outputs": [
    {
     "name": "stdout",
     "output_type": "stream",
     "text": [
      "test statistic Z = 2.7905\n",
      "z_alpha = 2.3263\n",
      "We have to reject H0, and the p-value is 0.0026\n"
     ]
    }
   ],
   "source": [
    "f_A_mean_sample = np.mean(infect_1)\n",
    "f_A_stdev_sample = np.std(infect_1, ddof=1)\n",
    "sigma_A = f_A_stdev_sample\n",
    "\n",
    "f_B_mean_sample = np.mean(infect_2)\n",
    "f_B_stdev_sample = np.std(infect_2, ddof=1)\n",
    "sigma_B = f_B_stdev_sample\n",
    "\n",
    "sigma_A_B = np.sqrt((sigma_A*sigma_A/n_samples1) + (sigma_B*sigma_B/n_samples2))\n",
    "\n",
    "Z = np.abs((f_B_mean_sample - f_A_mean_sample)/sigma_A_B)\n",
    "\n",
    "alpha = 0.01\n",
    "z_alpha = stats.norm.ppf(1-alpha)\n",
    "\n",
    "print(f'test statistic Z = {Z:.4f}')\n",
    "print(f'z_alpha = {z_alpha:.4f}')\n",
    "\n",
    "if Z > z_alpha:\n",
    "    p_value = 1-stats.norm.cdf(Z)\n",
    "    print(f'We have to reject H0, and the p-value is {p_value:.4f}')\n",
    "else:\n",
    "    print('We have no ground to reject H0')"
   ]
  },
  {
   "cell_type": "markdown",
   "id": "395f6366",
   "metadata": {},
   "source": [
    "##### 3.4 (10%) Scenario 4 (symmetric case): $\\mu_A$ is not known; $\\mu_B$ is not known; $\\sigma_B= \\sigma_A = \\sigma$ is not known\n",
    "1. Null Hypothesis: $ H_0: \\mu_A = \\mu_B$\n",
    "2. Alternative Hypothesis: $ H_1: \\mu_A > \\mu_B$\n",
    "3. Test statistic: $t = \\frac{ (\\bar{X}_A - \\bar{X}_B)-(\\mu_A-\\mu_B)} {\\widehat{S}_{X_A,X_B} \\sqrt{\\frac{1}{n_A} +\\frac{1}{n_B} } } $\n",
    "4. Distribution of test statistic: $T \\sim t(n_A +n_B -2)$\n",
    "5. Critical Region $\\Re$: $T>t_{n_A+n_B-2,\\alpha}$\n",
    "6. Evaluate $T$ under $H_0$:if $t_0>t_{n_A+n_B-2,\\alpha} \\Rightarrow$ Reject $H_0$\n",
    "7. $p$-value: $p(T>t_0)$\n",
    "\n",
    "where $\\widehat{S}_{X_A,X_B}^2 =  \\frac{(n_A-1) \\widehat{S}_{X_A}^2 +(n_B-1) \\widehat{S}_{X_B}^2  }{n_A + n_B - 2}$"
   ]
  },
  {
   "cell_type": "code",
   "execution_count": 14,
   "id": "b3f78d7d",
   "metadata": {},
   "outputs": [
    {
     "name": "stdout",
     "output_type": "stream",
     "text": [
      "test statistic T = 2.8648\n",
      "t_alpha = 2.4671\n",
      "We have to reject H0, and the p-value is 0.0039\n"
     ]
    }
   ],
   "source": [
    "f_A_mean_sample = np.mean(infect_1)\n",
    "f_A_stdev_sample = np.std(infect_1, ddof=1)\n",
    "\n",
    "f_B_mean_sample = np.mean(infect_2)\n",
    "f_B_stdev_sample = np.std(infect_2, ddof=1)\n",
    "\n",
    "stdev_sample_A_B = np.sqrt((((n_samples1-1)*f_A_stdev_sample*f_A_stdev_sample) + ((n_samples2-1)*f_B_stdev_sample*f_B_stdev_sample))/(n_samples1+n_samples2-2))\n",
    "\n",
    "T = np.abs((f_A_mean_sample - f_B_mean_sample))/(stdev_sample_A_B*np.sqrt(1/n_samples1+1/n_samples2))\n",
    "\n",
    "df = n_samples2+n_samples1-2\n",
    "\n",
    "alpha = 0.01\n",
    "t_alpha = stats.t.ppf(1-alpha,df)\n",
    "\n",
    "print(f'test statistic T = {T:.4f}')\n",
    "print(f't_alpha = {t_alpha:.4f}')\n",
    "\n",
    "p_value = 1-stats.t.cdf(T,df)\n",
    "\n",
    "if T > t_alpha:\n",
    "    \n",
    "    print(f'We have to reject H0, and the p-value is {p_value:.4f}')\n",
    "else:\n",
    "    print(f'We have no ground to reject H0, and the p-value is {p_value:.4f}')"
   ]
  },
  {
   "cell_type": "markdown",
   "id": "488c1975",
   "metadata": {},
   "source": [
    "##### 3.5 (10%) Scenario 5 (symmetric case): $\\mu_A$ is not known; $\\mu_B$ is not known; $\\sigma_B$ is not known; $\\sigma_A$ is not known\n",
    "1. Null Hypothesis: $ H_0: \\mu_A = \\mu_B$\n",
    "2. Alternative Hypothesis: $ H_1: \\mu_A > \\mu_B$\n",
    "3. Test statistic: $R = \\frac{ (\\bar{X}_A - \\bar{X}_B)-(\\mu_A-\\mu_B)} { \\sqrt{\\frac{\\hat{S_x}_{A}^2 }{n_A} +\\frac{\\hat{S_x}_{B}^2}{n_B} } }  $\n",
    "4. Distribution of test statistic: $R \\sim t(\\nu)$\n",
    "5. Critical Region $\\Re$: $R>t_{\\nu,\\alpha}$\n",
    "6. Evaluate $R$ under $H_0$: if $r_0>t_{\\nu,\\alpha} \\Rightarrow$ Reject $H_0$\n",
    "7. $p$-value: $p(R>r_0)$\n",
    "\n",
    "$\\nu \\approx  \\left( \\frac{\\hat{S_x}_{A}^2 }{n_A} +\\frac{\\hat{S_x}_{B}^2}{n_B} \\right)^2 / \\left[ \\frac{1}{n_A-1} \\left( \\frac{\\hat{S_x}_{A}^2 }{n_A} \\right)^2 + \\frac{1}{n_B-1} \\left( \\frac{\\hat{S_x}_{B}^2 }{n_B} \\right)^2 \\right]$\n"
   ]
  },
  {
   "cell_type": "code",
   "execution_count": 15,
   "id": "a5036ce7",
   "metadata": {},
   "outputs": [
    {
     "name": "stdout",
     "output_type": "stream",
     "text": [
      "test statistic T = 2.7905\n",
      "t_alpha = 2.5062\n",
      "We have to reject H0, and the p-value is 0.0053\n"
     ]
    }
   ],
   "source": [
    "f_A_mean_sample = np.mean(infect_1)\n",
    "f_A_stdev_sample = np.std(infect_1, ddof=1)\n",
    "\n",
    "f_B_mean_sample = np.mean(infect_2)\n",
    "f_B_stdev_sample = np.std(infect_2, ddof=1)\n",
    "\n",
    "S_xA_n = f_A_stdev_sample*f_A_stdev_sample/len(infect_1)\n",
    "S_xB_n = f_B_stdev_sample*f_B_stdev_sample/len(infect_2)\n",
    "\n",
    "R = np.abs((f_A_mean_sample - f_B_mean_sample))/np.sqrt(S_xA_n + S_xB_n)\n",
    "\n",
    "nu = (S_xA_n+S_xB_n)**2/(S_xA_n*S_xA_n/(n_samples1-1) + S_xB_n*S_xB_n/(n_samples2-1))\n",
    "\n",
    "alpha = 0.01\n",
    "t_alpha = stats.t.ppf(1-alpha,nu)\n",
    "\n",
    "print(f'test statistic T = {R:.4f}')\n",
    "print(f't_alpha = {t_alpha:.4f}')\n",
    "\n",
    "p_value = 1-stats.t.cdf(R,nu)\n",
    "\n",
    "if R > t_alpha:\n",
    "    \n",
    "    print(f'We have to reject H0, and the p-value is {p_value:.4f}')\n",
    "else:\n",
    "    print(f'We have no ground to reject H0, and the p-value is {p_value:.4f}')"
   ]
  }
 ],
 "metadata": {
  "kernelspec": {
   "display_name": "Python 3",
   "language": "python",
   "name": "python3"
  },
  "language_info": {
   "codemirror_mode": {
    "name": "ipython",
    "version": 3
   },
   "file_extension": ".py",
   "mimetype": "text/x-python",
   "name": "python",
   "nbconvert_exporter": "python",
   "pygments_lexer": "ipython3",
   "version": "3.8.8"
  }
 },
 "nbformat": 4,
 "nbformat_minor": 5
}
