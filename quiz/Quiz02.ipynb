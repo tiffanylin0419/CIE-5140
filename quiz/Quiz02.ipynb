{
 "cells": [
  {
   "cell_type": "markdown",
   "id": "04653534",
   "metadata": {},
   "source": [
    "### Quiz 02: due 23:59, Thursday, December 9, 2021\n",
    "\n",
    "### -\tPlease work on this Jupyter notebook directly.\n",
    "### -\tName a folder using your student id and quiz number (e.g., b88501045-quiz02), put this Jupyter notebook and all output files into this folder and compress this folder to a .zip file (e.g., b88501045-quiz02.zip).\n",
    "### - Submit the Midterm directly through the NTU COOL course website.\n"
   ]
  },
  {
   "cell_type": "markdown",
   "id": "b04c17f3",
   "metadata": {},
   "source": [
    "### The attached csv file _Nettebach_5MIN.csv_ includes 49 years of 5-min rainfall records at Nettebach, Germany. Data with such long history is perfect for climate change study. Your task is to perform some statistical tests to confirm the impacts of climate changes onto the rainfall pattern in Nettebach. \n"
   ]
  },
  {
   "cell_type": "code",
   "execution_count": 1,
   "id": "8d517c70",
   "metadata": {},
   "outputs": [],
   "source": [
    "import scipy.stats as stats\n",
    "import numpy as np\n",
    "import random\n",
    "import pandas as pd\n",
    "import math\n",
    "import matplotlib.pyplot as plt"
   ]
  },
  {
   "cell_type": "code",
   "execution_count": 2,
   "id": "84d9915f",
   "metadata": {},
   "outputs": [
    {
     "data": {
      "text/html": [
       "<div>\n",
       "<style scoped>\n",
       "    .dataframe tbody tr th:only-of-type {\n",
       "        vertical-align: middle;\n",
       "    }\n",
       "\n",
       "    .dataframe tbody tr th {\n",
       "        vertical-align: top;\n",
       "    }\n",
       "\n",
       "    .dataframe thead th {\n",
       "        text-align: right;\n",
       "    }\n",
       "</style>\n",
       "<table border=\"1\" class=\"dataframe\">\n",
       "  <thead>\n",
       "    <tr style=\"text-align: right;\">\n",
       "      <th></th>\n",
       "      <th>datetime</th>\n",
       "      <th>Rain[mm]</th>\n",
       "    </tr>\n",
       "  </thead>\n",
       "  <tbody>\n",
       "    <tr>\n",
       "      <th>0</th>\n",
       "      <td>1960-01-01 00:00:00</td>\n",
       "      <td>0.0</td>\n",
       "    </tr>\n",
       "    <tr>\n",
       "      <th>1</th>\n",
       "      <td>1960-01-01 00:05:00</td>\n",
       "      <td>0.0</td>\n",
       "    </tr>\n",
       "    <tr>\n",
       "      <th>2</th>\n",
       "      <td>1960-01-01 00:10:00</td>\n",
       "      <td>0.0</td>\n",
       "    </tr>\n",
       "    <tr>\n",
       "      <th>3</th>\n",
       "      <td>1960-01-01 00:15:00</td>\n",
       "      <td>0.0</td>\n",
       "    </tr>\n",
       "    <tr>\n",
       "      <th>4</th>\n",
       "      <td>1960-01-01 00:20:00</td>\n",
       "      <td>0.0</td>\n",
       "    </tr>\n",
       "    <tr>\n",
       "      <th>...</th>\n",
       "      <td>...</td>\n",
       "      <td>...</td>\n",
       "    </tr>\n",
       "    <tr>\n",
       "      <th>5154619</th>\n",
       "      <td>2008-12-31 23:35:00</td>\n",
       "      <td>0.0</td>\n",
       "    </tr>\n",
       "    <tr>\n",
       "      <th>5154620</th>\n",
       "      <td>2008-12-31 23:40:00</td>\n",
       "      <td>0.0</td>\n",
       "    </tr>\n",
       "    <tr>\n",
       "      <th>5154621</th>\n",
       "      <td>2008-12-31 23:45:00</td>\n",
       "      <td>0.0</td>\n",
       "    </tr>\n",
       "    <tr>\n",
       "      <th>5154622</th>\n",
       "      <td>2008-12-31 23:50:00</td>\n",
       "      <td>0.0</td>\n",
       "    </tr>\n",
       "    <tr>\n",
       "      <th>5154623</th>\n",
       "      <td>2008-12-31 23:55:00</td>\n",
       "      <td>0.0</td>\n",
       "    </tr>\n",
       "  </tbody>\n",
       "</table>\n",
       "<p>5154624 rows × 2 columns</p>\n",
       "</div>"
      ],
      "text/plain": [
       "                   datetime  Rain[mm]\n",
       "0       1960-01-01 00:00:00       0.0\n",
       "1       1960-01-01 00:05:00       0.0\n",
       "2       1960-01-01 00:10:00       0.0\n",
       "3       1960-01-01 00:15:00       0.0\n",
       "4       1960-01-01 00:20:00       0.0\n",
       "...                     ...       ...\n",
       "5154619 2008-12-31 23:35:00       0.0\n",
       "5154620 2008-12-31 23:40:00       0.0\n",
       "5154621 2008-12-31 23:45:00       0.0\n",
       "5154622 2008-12-31 23:50:00       0.0\n",
       "5154623 2008-12-31 23:55:00       0.0\n",
       "\n",
       "[5154624 rows x 2 columns]"
      ]
     },
     "execution_count": 2,
     "metadata": {},
     "output_type": "execute_result"
    }
   ],
   "source": [
    "# define filename\n",
    "fn_data = \"/Users/lintingxuan/Desktop/Nettebach_5MIN.csv\"\n",
    "\n",
    "# read csv file, a dataframe will be created to store data\n",
    "df_rain_1d = pd.read_csv(fn_data)\n",
    "df_rain_1d['datetime'] = pd.to_datetime(df_rain_1d['datetime'], format='%Y-%m-%d')\n",
    "df_rain_1d"
   ]
  },
  {
   "cell_type": "code",
   "execution_count": 3,
   "id": "11a4cb9c",
   "metadata": {},
   "outputs": [],
   "source": [
    "df_rain_1d_1=df_rain_1d[df_rain_1d['datetime'].dt.year<1985]\n",
    "df_rain_1d_2=df_rain_1d[df_rain_1d['datetime'].dt.year>=1985]"
   ]
  },
  {
   "cell_type": "code",
   "execution_count": 4,
   "id": "d6f651ff",
   "metadata": {},
   "outputs": [],
   "source": [
    "rain1= df_rain_1d_1['Rain[mm]'].tolist()\n",
    "sample_mean1 = np.mean(rain1)\n",
    "sample_stdev1 = np.std(rain1, ddof = 1)\n",
    "rain2= df_rain_1d_2['Rain[mm]'].tolist()\n",
    "sample_mean2 = np.mean(rain2)\n",
    "sample_stdev2 = np.std(rain2, ddof = 1)"
   ]
  },
  {
   "cell_type": "markdown",
   "id": "7a4dde40",
   "metadata": {},
   "source": [
    "#### 1. _Mean Test_ (50% = 10% $\\times$ 5 )\n",
    "\n",
    "#### Please perform statistical tests to check if the mean of the _annual_ rainfall in 1985-2008 is larger than that of the annual rainfall in 1960 – 1984 ($\\alpha = 0.01$). \n",
    "\n",
    "#### The statistical tests shall be conducted under the following five different scenarios."
   ]
  },
  {
   "cell_type": "markdown",
   "id": "2f6f81b6",
   "metadata": {},
   "source": [
    "#### Scenario 1 (asymmetric case): $\\mu_A$ is known; $\\mu_B$ is not known; $\\sigma_B=\\sigma_A = \\sigma$\n",
    "\n",
    "1. Null Hypothesis $ H_0: \\mu_A = \\mu_B$\n",
    "2. Alternative Hypothesis $ H_1: \\mu_B> \\mu_A$\n",
    "3. Test statistic $Z = \\frac{\\bar{X}_{B}-\\mu_B}{\\sigma/\\sqrt{n}}$\n",
    "4. Distribution of test statistic $Z \\sim N(0,1)$\n",
    "5. Critical Region $\\Re$: $Z>z_{1-\\alpha}$ (e.g. $\\alpha=1$\\%)\n",
    "6. Evaluate $Z$ under $H_0$  & if $z_0>z_{1-\\alpha} \\Rightarrow$ Reject $H_0$\n",
    "7. $p-value$: $p(Z>z_0)$"
   ]
  },
  {
   "cell_type": "code",
   "execution_count": 5,
   "id": "aacf94ff",
   "metadata": {},
   "outputs": [
    {
     "name": "stdout",
     "output_type": "stream",
     "text": [
      "test statistic Z = 17.6262\n",
      "z_alpha = 2.3263\n",
      "We have to reject H0, and the p-value is 0.0000\n"
     ]
    }
   ],
   "source": [
    "n_samples1 = len(rain1)\n",
    "n_samples2 = len(rain2)\n",
    "f_A_mean_sample = np.mean(rain1)\n",
    "mu_A = f_A_mean_sample\n",
    "f_A_stdev_sample = np.std(rain1, ddof=1)\n",
    "sigma = f_A_stdev_sample\n",
    "\n",
    "f_B_mean_sample = np.mean(rain2)\n",
    "mu_B = mu_A\n",
    "\n",
    "#要加絕對值\n",
    "Z = np.abs((f_B_mean_sample - mu_B)/(sigma/np.sqrt(n_samples1)))\n",
    "\n",
    "alpha = 0.01\n",
    "z_alpha = stats.norm.ppf(1-alpha)\n",
    "\n",
    "print(f'test statistic Z = {Z:.4f}')\n",
    "print(f'z_alpha = {z_alpha:.4f}')\n",
    "\n",
    "if Z > z_alpha:\n",
    "    p_value = 1-stats.norm.cdf(Z)\n",
    "    print(f'We have to reject H0, and the p-value is {p_value:.4f}')\n",
    "else:\n",
    "    print('We have no ground to reject H0')"
   ]
  },
  {
   "cell_type": "markdown",
   "id": "96a9767a",
   "metadata": {},
   "source": [
    "#### Scenario 2 (asymmetric case): $\\mu_A$ is known; $\\mu_B$ is not known; $\\sigma_B$ is not known\n",
    "\n",
    "1. Null Hypothesis $ H_0: \\mu_A = \\mu_B$\n",
    "2. Alternative Hypothesis $ H_1: \\mu_B> \\mu_A$\n",
    "3. Test statistic $T = \\frac{\\bar{X}_{B}-\\mu_B}{\\hat{S_x}_B/\\sqrt{n}}$\n",
    "4. Distribution of test statistic $T \\sim t(n-1)$\n",
    "5. Critical Region $\\Re$: $T>t_{n-1,1-\\alpha}$ (e.g. $\\alpha=1$\\%)\n",
    "6. Evaluate $T$ under $H_0$  & if $t_0>t_{n-1,1-\\alpha} \\Rightarrow$ Reject $H_0$\n",
    "7. $p-value$: $p(T>t_0)$\n"
   ]
  },
  {
   "cell_type": "code",
   "execution_count": 6,
   "id": "f547c5cb",
   "metadata": {},
   "outputs": [
    {
     "name": "stdout",
     "output_type": "stream",
     "text": [
      "test statistic T = 16.8504\n",
      "t_alpha = 2.3263\n",
      "We have to reject H0, and the p-value is 0.0000\n"
     ]
    }
   ],
   "source": [
    "f_A_mean_sample = np.mean(rain1)\n",
    "mu_A = f_A_mean_sample\n",
    "\n",
    "f_B_mean_sample = np.mean(rain2)\n",
    "mu_B = mu_A\n",
    "f_B_stdev_sample = np.std(rain2, ddof=1)\n",
    "\n",
    "#要加絕對值\n",
    "T = np.abs((f_B_mean_sample - mu_B)/(f_B_stdev_sample/np.sqrt(n_samples2)))\n",
    "\n",
    "df = len(rain2)-1\n",
    "\n",
    "alpha = 0.01\n",
    "t_alpha = stats.t.ppf(1-alpha,df)\n",
    "\n",
    "print(f'test statistic T = {T:.4f}')\n",
    "print(f't_alpha = {t_alpha:.4f}')\n",
    "\n",
    "if T > t_alpha:\n",
    "    p_value = 1-stats.t.cdf(T,df)\n",
    "    print(f'We have to reject H0, and the p-value is {p_value:.4f}')\n",
    "else:\n",
    "    print('We have no ground to reject H0')"
   ]
  },
  {
   "cell_type": "markdown",
   "id": "2b268118",
   "metadata": {},
   "source": [
    "#### Scenario 3 (symmetric case): $\\mu_A$ is not known; $\\mu_B$ is not known; $\\sigma_B$ is known; $\\sigma_A$ is known\n",
    "1. Null Hypothesis: $ H_0: \\mu_A = \\mu_B$\n",
    "2. Alternative Hypothesis: $ H_1: \\mu_A \\neq \\mu_B$\n",
    "3. Test statistic: $Z = \\frac{(\\bar{X}_A - \\bar{X}_B)-(\\mu_A-\\mu_B)}{\\sigma_{{\\bar{X}_A} -{\\bar{X}_B}} }$\n",
    "4. Distribution of test statistic: $Z \\sim N(0,1)$\n",
    "5. Critical Region $\\Re$: $|Z|>z_{1-\\alpha}$ (e.g. $\\alpha=1$\\%)\n",
    "6. Evaluate $Z$ under $H_0$: if $|z_0|>z_{1-\\alpha} \\Rightarrow$ Reject $H_0$\n",
    "7. $p-value$ & $p(|Z|>z_0)$\n",
    "\n",
    "where $\\sigma_{{\\bar{X}_A} -{\\bar{X}_B}} = \\sqrt{\\frac{\\sigma_A^2}{n_A} +\\frac {\\sigma_B^2}{n_B} }$ "
   ]
  },
  {
   "cell_type": "code",
   "execution_count": 7,
   "id": "30548071",
   "metadata": {},
   "outputs": [
    {
     "name": "stdout",
     "output_type": "stream",
     "text": [
      "test statistic Z = 12.1801\n",
      "z_alpha = 2.3263\n",
      "We have to reject H0, and the p-value is 0.0000\n"
     ]
    }
   ],
   "source": [
    "f_A_mean_sample = np.mean(rain1)\n",
    "f_A_stdev_sample = np.std(rain1, ddof=1)\n",
    "sigma_A = f_A_stdev_sample\n",
    "\n",
    "f_B_mean_sample = np.mean(rain2)\n",
    "f_B_stdev_sample = np.std(rain2, ddof=1)\n",
    "sigma_B = f_B_stdev_sample\n",
    "\n",
    "sigma_A_B = np.sqrt((sigma_A*sigma_A/n_samples1) + (sigma_B*sigma_B/n_samples2))\n",
    "\n",
    "Z = np.abs((f_B_mean_sample - f_A_mean_sample)/sigma_A_B)\n",
    "\n",
    "alpha = 0.01\n",
    "z_alpha = stats.norm.ppf(1-alpha)\n",
    "\n",
    "print(f'test statistic Z = {Z:.4f}')\n",
    "print(f'z_alpha = {z_alpha:.4f}')\n",
    "\n",
    "if Z > z_alpha:\n",
    "    p_value = 1-stats.norm.cdf(Z)\n",
    "    print(f'We have to reject H0, and the p-value is {p_value:.4f}')\n",
    "else:\n",
    "    print('We have no ground to reject H0')"
   ]
  },
  {
   "cell_type": "markdown",
   "id": "ff043153",
   "metadata": {},
   "source": [
    "#### Scenario 4 (symmetric case): $\\mu_A$ is not known; $\\mu_B$ is not known; $\\sigma_B= \\sigma_A = \\sigma$ is not known\n",
    "1. Null Hypothesis: $ H_0: \\mu_A = \\mu_B$\n",
    "2. Alternative Hypothesis: $ H_1: \\mu_A > \\mu_B$\n",
    "3. Test statistic: $t = \\frac{ (\\bar{X}_A - \\bar{X}_B)-(\\mu_A-\\mu_B)} {\\widehat{S}_{X_A,X_B} \\sqrt{\\frac{1}{n_A} +\\frac{1}{n_B} } } $\n",
    "4. Distribution of test statistic: $T \\sim t(n_A +n_B -2)$\n",
    "5. Critical Region $\\Re$: $T>t_{n_A+n_B-2,1-\\alpha}$\n",
    "6. Evaluate $T$ under $H_0$:if $t_0>t_{n_A+n_B-2,1-\\alpha} \\Rightarrow$ Reject $H_0$\n",
    "7. $p-value$: $p(T>t_0)$\n",
    "\n",
    "where $\\widehat{S}_{X_A,X_B}^2 =  \\frac{(n_A-1) \\widehat{S}_{X_A}^2 +(n_B-1) \\widehat{S}_{X_B}^2  }{n_A + n_B - 2}$"
   ]
  },
  {
   "cell_type": "code",
   "execution_count": 8,
   "id": "4764a73c",
   "metadata": {},
   "outputs": [
    {
     "name": "stdout",
     "output_type": "stream",
     "text": [
      "test statistic T = 12.1862\n",
      "t_alpha = 2.3263\n",
      "We have to reject H0, and the p-value is 0.0000\n"
     ]
    }
   ],
   "source": [
    "f_A_mean_sample = np.mean(rain1)\n",
    "f_A_stdev_sample = np.std(rain1, ddof=1)\n",
    "\n",
    "f_B_mean_sample = np.mean(rain2)\n",
    "f_B_stdev_sample = np.std(rain2, ddof=1)\n",
    "\n",
    "stdev_sample_A_B = np.sqrt((((n_samples1-1)*f_A_stdev_sample*f_A_stdev_sample) + ((n_samples2-1)*f_B_stdev_sample*f_B_stdev_sample))/(n_samples1+n_samples2-2))\n",
    "\n",
    "T = np.abs((f_A_mean_sample - f_B_mean_sample))/(stdev_sample_A_B*np.sqrt(1/n_samples1+1/n_samples2))\n",
    "\n",
    "df = n_samples2+n_samples1-2\n",
    "\n",
    "alpha = 0.01\n",
    "t_alpha = stats.t.ppf(1-alpha,df)\n",
    "\n",
    "print(f'test statistic T = {T:.4f}')\n",
    "print(f't_alpha = {t_alpha:.4f}')\n",
    "\n",
    "p_value = 1-stats.t.cdf(T,df)\n",
    "\n",
    "if T > t_alpha:\n",
    "    \n",
    "    print(f'We have to reject H0, and the p-value is {p_value:.4f}')\n",
    "else:\n",
    "    print(f'We have no ground to reject H0, and the p-value is {p_value:.4f}')"
   ]
  },
  {
   "cell_type": "markdown",
   "id": "d3baf78a",
   "metadata": {},
   "source": [
    "#### Scenario 5 (symmetric case): $\\mu_A$ is not known; $\\mu_B$ is not known; $\\sigma_B$ is not known; $\\sigma_A$ is not known\n",
    "1. Null Hypothesis: $ H_0: \\mu_A = \\mu_B$\n",
    "2. Alternative Hypothesis: $ H_1: \\mu_A > \\mu_B$\n",
    "3. Test statistic: $R = \\frac{ (\\bar{X}_A - \\bar{X}_B)-(\\mu_A-\\mu_B)} { \\sqrt{\\frac{\\hat{S_x}_{A}^2 }{n_A} +\\frac{\\hat{S_x}_{B}^2}{n_B} } }  $\n",
    "4. Distribution of test statistic: $R \\sim t(\\nu)$\n",
    "5. Critical Region $\\Re$: $R>t_{\\nu,1-\\alpha}$\n",
    "6. Evaluate $R$ under $H_0$: if $r_0>t_{\\nu,1-\\alpha} \\Rightarrow$ Reject $H_0$\n",
    "7. $p-value$: $p(R>r_0)$\n",
    "\n",
    "$\\nu \\approx  \\left( \\frac{\\hat{S_x}_{A}^2 }{n_A} +\\frac{\\hat{S_x}_{B}^2}{n_B} \\right)^2 / \\left[ \\frac{1}{n_A-1} \\left( \\frac{\\hat{S_x}_{A}^2 }{n_A} \\right)^2 + \\frac{1}{n_B-1} \\left( \\frac{\\hat{S_x}_{B}^2 }{n_B} \\right)^2 \\right]$"
   ]
  },
  {
   "cell_type": "code",
   "execution_count": 9,
   "id": "1ecc4912",
   "metadata": {},
   "outputs": [
    {
     "name": "stdout",
     "output_type": "stream",
     "text": [
      "test statistic T = 12.1801\n",
      "t_alpha = 2.3263\n",
      "We have to reject H0, and the p-value is 0.0000\n"
     ]
    }
   ],
   "source": [
    "f_A_mean_sample = np.mean(rain1)\n",
    "f_A_stdev_sample = np.std(rain1, ddof=1)\n",
    "\n",
    "f_B_mean_sample = np.mean(rain2)\n",
    "f_B_stdev_sample = np.std(rain2, ddof=1)\n",
    "\n",
    "S_xA_n = f_A_stdev_sample*f_A_stdev_sample/len(rain1)\n",
    "S_xB_n = f_B_stdev_sample*f_B_stdev_sample/len(rain2)\n",
    "\n",
    "R = np.abs((f_A_mean_sample - f_B_mean_sample))/np.sqrt(S_xA_n + S_xB_n)\n",
    "\n",
    "nu = (S_xA_n+S_xB_n)**2/(S_xA_n*S_xA_n/(n_samples1-1) + S_xB_n*S_xB_n/(n_samples2-1))\n",
    "\n",
    "alpha = 0.01\n",
    "t_alpha = stats.t.ppf(1-alpha,nu)\n",
    "\n",
    "print(f'test statistic T = {R:.4f}')\n",
    "print(f't_alpha = {t_alpha:.4f}')\n",
    "\n",
    "p_value = 1-stats.t.cdf(R,nu)\n",
    "\n",
    "if R > t_alpha:\n",
    "    \n",
    "    print(f'We have to reject H0, and the p-value is {p_value:.4f}')\n",
    "else:\n",
    "    print(f'We have no ground to reject H0, and the p-value is {p_value:.4f}')"
   ]
  },
  {
   "cell_type": "markdown",
   "id": "31edfda1",
   "metadata": {},
   "source": [
    "#### 2. _Trend Test_ (50%) - annual rainfall\n",
    "\n",
    "#### Please perform statistical tests to check if a trend in _annual_ rainfall over the entire 1960-2008 period can be found."
   ]
  },
  {
   "cell_type": "code",
   "execution_count": 10,
   "id": "6448f402",
   "metadata": {},
   "outputs": [],
   "source": [
    "import pandas as pd\n",
    "import numpy as np\n",
    "import matplotlib.pyplot as plt\n",
    "import scipy.stats as stats\n",
    "import statsmodels.api as sm # ACF plot\n",
    "import pymannkendall as mk "
   ]
  },
  {
   "cell_type": "code",
   "execution_count": 11,
   "id": "5764ecad",
   "metadata": {},
   "outputs": [
    {
     "data": {
      "text/html": [
       "<div>\n",
       "<style scoped>\n",
       "    .dataframe tbody tr th:only-of-type {\n",
       "        vertical-align: middle;\n",
       "    }\n",
       "\n",
       "    .dataframe tbody tr th {\n",
       "        vertical-align: top;\n",
       "    }\n",
       "\n",
       "    .dataframe thead th {\n",
       "        text-align: right;\n",
       "    }\n",
       "</style>\n",
       "<table border=\"1\" class=\"dataframe\">\n",
       "  <thead>\n",
       "    <tr style=\"text-align: right;\">\n",
       "      <th></th>\n",
       "      <th>Rain[mm]</th>\n",
       "    </tr>\n",
       "    <tr>\n",
       "      <th>datetime</th>\n",
       "      <th></th>\n",
       "    </tr>\n",
       "  </thead>\n",
       "  <tbody>\n",
       "    <tr>\n",
       "      <th>1960</th>\n",
       "      <td>897.04</td>\n",
       "    </tr>\n",
       "    <tr>\n",
       "      <th>1961</th>\n",
       "      <td>904.90</td>\n",
       "    </tr>\n",
       "    <tr>\n",
       "      <th>1962</th>\n",
       "      <td>710.86</td>\n",
       "    </tr>\n",
       "    <tr>\n",
       "      <th>1963</th>\n",
       "      <td>537.08</td>\n",
       "    </tr>\n",
       "    <tr>\n",
       "      <th>1964</th>\n",
       "      <td>556.97</td>\n",
       "    </tr>\n",
       "    <tr>\n",
       "      <th>1965</th>\n",
       "      <td>1032.14</td>\n",
       "    </tr>\n",
       "    <tr>\n",
       "      <th>1966</th>\n",
       "      <td>1053.42</td>\n",
       "    </tr>\n",
       "    <tr>\n",
       "      <th>1967</th>\n",
       "      <td>826.15</td>\n",
       "    </tr>\n",
       "    <tr>\n",
       "      <th>1968</th>\n",
       "      <td>1008.51</td>\n",
       "    </tr>\n",
       "    <tr>\n",
       "      <th>1969</th>\n",
       "      <td>662.67</td>\n",
       "    </tr>\n",
       "    <tr>\n",
       "      <th>1970</th>\n",
       "      <td>922.87</td>\n",
       "    </tr>\n",
       "    <tr>\n",
       "      <th>1971</th>\n",
       "      <td>639.60</td>\n",
       "    </tr>\n",
       "    <tr>\n",
       "      <th>1972</th>\n",
       "      <td>644.43</td>\n",
       "    </tr>\n",
       "    <tr>\n",
       "      <th>1973</th>\n",
       "      <td>635.75</td>\n",
       "    </tr>\n",
       "    <tr>\n",
       "      <th>1974</th>\n",
       "      <td>924.11</td>\n",
       "    </tr>\n",
       "    <tr>\n",
       "      <th>1975</th>\n",
       "      <td>621.23</td>\n",
       "    </tr>\n",
       "    <tr>\n",
       "      <th>1976</th>\n",
       "      <td>512.98</td>\n",
       "    </tr>\n",
       "    <tr>\n",
       "      <th>1977</th>\n",
       "      <td>785.34</td>\n",
       "    </tr>\n",
       "    <tr>\n",
       "      <th>1978</th>\n",
       "      <td>774.24</td>\n",
       "    </tr>\n",
       "    <tr>\n",
       "      <th>1979</th>\n",
       "      <td>839.87</td>\n",
       "    </tr>\n",
       "    <tr>\n",
       "      <th>1980</th>\n",
       "      <td>805.91</td>\n",
       "    </tr>\n",
       "    <tr>\n",
       "      <th>1981</th>\n",
       "      <td>1030.74</td>\n",
       "    </tr>\n",
       "    <tr>\n",
       "      <th>1982</th>\n",
       "      <td>702.48</td>\n",
       "    </tr>\n",
       "    <tr>\n",
       "      <th>1983</th>\n",
       "      <td>739.19</td>\n",
       "    </tr>\n",
       "    <tr>\n",
       "      <th>1984</th>\n",
       "      <td>848.11</td>\n",
       "    </tr>\n",
       "    <tr>\n",
       "      <th>1985</th>\n",
       "      <td>807.77</td>\n",
       "    </tr>\n",
       "    <tr>\n",
       "      <th>1986</th>\n",
       "      <td>876.48</td>\n",
       "    </tr>\n",
       "    <tr>\n",
       "      <th>1987</th>\n",
       "      <td>865.64</td>\n",
       "    </tr>\n",
       "    <tr>\n",
       "      <th>1988</th>\n",
       "      <td>893.68</td>\n",
       "    </tr>\n",
       "    <tr>\n",
       "      <th>1989</th>\n",
       "      <td>638.72</td>\n",
       "    </tr>\n",
       "    <tr>\n",
       "      <th>1990</th>\n",
       "      <td>804.99</td>\n",
       "    </tr>\n",
       "    <tr>\n",
       "      <th>1991</th>\n",
       "      <td>694.82</td>\n",
       "    </tr>\n",
       "    <tr>\n",
       "      <th>1992</th>\n",
       "      <td>843.36</td>\n",
       "    </tr>\n",
       "    <tr>\n",
       "      <th>1993</th>\n",
       "      <td>945.25</td>\n",
       "    </tr>\n",
       "    <tr>\n",
       "      <th>1994</th>\n",
       "      <td>981.30</td>\n",
       "    </tr>\n",
       "    <tr>\n",
       "      <th>1995</th>\n",
       "      <td>789.44</td>\n",
       "    </tr>\n",
       "    <tr>\n",
       "      <th>1996</th>\n",
       "      <td>702.48</td>\n",
       "    </tr>\n",
       "    <tr>\n",
       "      <th>1997</th>\n",
       "      <td>732.26</td>\n",
       "    </tr>\n",
       "    <tr>\n",
       "      <th>1998</th>\n",
       "      <td>1040.90</td>\n",
       "    </tr>\n",
       "    <tr>\n",
       "      <th>1999</th>\n",
       "      <td>793.97</td>\n",
       "    </tr>\n",
       "    <tr>\n",
       "      <th>2000</th>\n",
       "      <td>886.15</td>\n",
       "    </tr>\n",
       "    <tr>\n",
       "      <th>2001</th>\n",
       "      <td>833.85</td>\n",
       "    </tr>\n",
       "    <tr>\n",
       "      <th>2002</th>\n",
       "      <td>1048.43</td>\n",
       "    </tr>\n",
       "    <tr>\n",
       "      <th>2003</th>\n",
       "      <td>799.80</td>\n",
       "    </tr>\n",
       "    <tr>\n",
       "      <th>2004</th>\n",
       "      <td>960.09</td>\n",
       "    </tr>\n",
       "    <tr>\n",
       "      <th>2005</th>\n",
       "      <td>798.32</td>\n",
       "    </tr>\n",
       "    <tr>\n",
       "      <th>2006</th>\n",
       "      <td>878.66</td>\n",
       "    </tr>\n",
       "    <tr>\n",
       "      <th>2007</th>\n",
       "      <td>1023.62</td>\n",
       "    </tr>\n",
       "    <tr>\n",
       "      <th>2008</th>\n",
       "      <td>889.24</td>\n",
       "    </tr>\n",
       "  </tbody>\n",
       "</table>\n",
       "</div>"
      ],
      "text/plain": [
       "          Rain[mm]\n",
       "datetime          \n",
       "1960        897.04\n",
       "1961        904.90\n",
       "1962        710.86\n",
       "1963        537.08\n",
       "1964        556.97\n",
       "1965       1032.14\n",
       "1966       1053.42\n",
       "1967        826.15\n",
       "1968       1008.51\n",
       "1969        662.67\n",
       "1970        922.87\n",
       "1971        639.60\n",
       "1972        644.43\n",
       "1973        635.75\n",
       "1974        924.11\n",
       "1975        621.23\n",
       "1976        512.98\n",
       "1977        785.34\n",
       "1978        774.24\n",
       "1979        839.87\n",
       "1980        805.91\n",
       "1981       1030.74\n",
       "1982        702.48\n",
       "1983        739.19\n",
       "1984        848.11\n",
       "1985        807.77\n",
       "1986        876.48\n",
       "1987        865.64\n",
       "1988        893.68\n",
       "1989        638.72\n",
       "1990        804.99\n",
       "1991        694.82\n",
       "1992        843.36\n",
       "1993        945.25\n",
       "1994        981.30\n",
       "1995        789.44\n",
       "1996        702.48\n",
       "1997        732.26\n",
       "1998       1040.90\n",
       "1999        793.97\n",
       "2000        886.15\n",
       "2001        833.85\n",
       "2002       1048.43\n",
       "2003        799.80\n",
       "2004        960.09\n",
       "2005        798.32\n",
       "2006        878.66\n",
       "2007       1023.62\n",
       "2008        889.24"
      ]
     },
     "execution_count": 11,
     "metadata": {},
     "output_type": "execute_result"
    }
   ],
   "source": [
    "df_rain_1y =df_rain_1d.groupby(pd.Grouper(key=\"datetime\",freq=\"1Y\")).sum()\n",
    "df_rain_1y=df_rain_1y.reset_index()\n",
    "\n",
    "df_rain_1y['datetime'] = df_rain_1y['datetime'].dt.year\n",
    "df_rain_1y=df_rain_1y.set_index('datetime')\n",
    "df_rain_1y"
   ]
  },
  {
   "cell_type": "markdown",
   "id": "1b4675f2",
   "metadata": {},
   "source": [
    "##### 2.1. (5+5%) Perform linear regression over annual rainfall data, and make a plot for visual inspection. The 1-year rainfall data and the fitted line shall be plotted in a single plot. "
   ]
  },
  {
   "cell_type": "code",
   "execution_count": 12,
   "id": "12442751",
   "metadata": {},
   "outputs": [
    {
     "name": "stdout",
     "output_type": "stream",
     "text": [
      "slope=2.6137, intercept=-4366.3352, r2=0.0700, p_value=0.0662, slope_std_err=1.3899\n"
     ]
    }
   ],
   "source": [
    "rain=df_rain_1y['Rain[mm]']\n",
    "year=df_rain_1y.index\n",
    "n=len(year)\n",
    "\n",
    "b_st, a_st, r_st, p_st, se_st = stats.linregress(year,rain)\n",
    "print(f'slope={b_st:.4f}, intercept={a_st:.4f}, r2={r_st**2:.4f}, p_value={p_st:.4f}, slope_std_err={se_st:.4f}')"
   ]
  },
  {
   "cell_type": "code",
   "execution_count": 13,
   "id": "6daeb814",
   "metadata": {},
   "outputs": [
    {
     "data": {
      "image/png": "[encoded data removed]",
      "text/plain": [
       "<Figure size 720x216 with 1 Axes>"
      ]
     },
     "metadata": {
      "needs_background": "light"
     },
     "output_type": "display_data"
    }
   ],
   "source": [
    "plt.rcParams[\"figure.figsize\"] = (10,3)\n",
    "plt.plot(year,rain)\n",
    "\n",
    "y = year*b_st+a_st\n",
    "plt.plot(year, y, color='red')\n",
    "\n",
    "plt.xlabel('Years')\n",
    "plt.ylabel('Annual Precipitation ($mm$)')\n",
    "\n",
    "plt.show()"
   ]
  },
  {
   "cell_type": "code",
   "execution_count": 14,
   "id": "3e1fda59",
   "metadata": {},
   "outputs": [
    {
     "data": {
      "image/png": "[encoded data removed]",
      "text/plain": [
       "<Figure size 1000x300 with 1 Axes>"
      ]
     },
     "metadata": {
      "needs_background": "light"
     },
     "output_type": "display_data"
    }
   ],
   "source": [
    "# A workaround to register the datetime format in pandas to matplotlib\n",
    "from pandas.plotting import register_matplotlib_converters\n",
    "register_matplotlib_converters()\n",
    "\n",
    "\n",
    "plt.figure(figsize=(10,3), dpi=100)\n",
    "\n",
    "plt.plot(year, rain);"
   ]
  },
  {
   "cell_type": "markdown",
   "id": "455171d2",
   "metadata": {},
   "source": [
    "##### 2.2. (20%) Perform F-test to check if there is a trend in both one- and two-sided tests ($\\alpha = 0.01$). You are required to output  $ss_{tol}$, $ss_{reg}$, $ss_{res}$ and $F$ statistics. Then, after comparing test statistics $F$ and critical region, one can know if one can reject null hypothesis $H_{0}$one can reject null hypothesis $H_{0}$"
   ]
  },
  {
   "cell_type": "code",
   "execution_count": 15,
   "id": "613d4357",
   "metadata": {},
   "outputs": [
    {
     "name": "stdout",
     "output_type": "stream",
     "text": [
      "Regression sum of squares, SSreg: 66949.455\n",
      "Residual sum of squares, SSres: 889790.118\n",
      "Total sum of squares, SSreg: 956739.573\n"
     ]
    }
   ],
   "source": [
    "y_est = a_st + b_st*year\n",
    "\n",
    "y_mean = np.mean(rain)\n",
    "x_mean = np.mean(year)\n",
    "\n",
    "cov_xy_m = np.cov(year, rain, ddof=1)\n",
    "cov_xy = cov_xy_m[0][1]\n",
    "var_x = cov_xy_m[0][0]\n",
    "var_y = cov_xy_m[1][1]\n",
    "\n",
    "var_err_est = (n*var_y - n*cov_xy*cov_xy/var_x)/(n-2)\n",
    "ss_reg = np.sum((y_est - (a_st + b_st*x_mean))**2)\n",
    "ss_res = np.sum((rain-y_est)**2)\n",
    "\n",
    "ss_total = np.sum((rain-y_mean)**2)\n",
    "\n",
    "print(f'Regression sum of squares, SSreg: {ss_reg:.3f}')\n",
    "print(f'Residual sum of squares, SSres: {ss_res:.3f}')\n",
    "print(f'Total sum of squares, SSreg: {ss_total:.3f}')"
   ]
  },
  {
   "cell_type": "code",
   "execution_count": 16,
   "id": "3561998d",
   "metadata": {},
   "outputs": [
    {
     "name": "stdout",
     "output_type": "stream",
     "text": [
      "Test statistics F = 3.536\n"
     ]
    }
   ],
   "source": [
    "F = ss_reg / ss_res * (n-2)\n",
    "print(f'Test statistics F = {F:.3f}')"
   ]
  },
  {
   "cell_type": "code",
   "execution_count": 17,
   "id": "32d5ae55",
   "metadata": {},
   "outputs": [
    {
     "name": "stdout",
     "output_type": "stream",
     "text": [
      "For two-sided test, the critical region is [0.466,2.148]\n",
      "For one-sided test, the upper bound of the critical region is 1.991\n"
     ]
    }
   ],
   "source": [
    "alpha = 0.01\n",
    "alpha_upper = 1 - alpha/2\n",
    "alpha_lower = alpha/2\n",
    "dof = n-2\n",
    "\n",
    "f_upper = stats.f.ppf(alpha_upper,dfn = dof, dfd=dof)\n",
    "f_lower = stats.f.ppf(alpha_lower,dfn = dof, dfd=dof)\n",
    "\n",
    "print(f'For two-sided test, the critical region is [{f_lower:.3f},{f_upper:.3f}]')\n",
    "\n",
    "\n",
    "f_upper = stats.f.ppf(1-alpha,dfn = dof, dfd=dof)\n",
    "print(f'For one-sided test, the upper bound of the critical region is {f_upper:.3f}')"
   ]
  },
  {
   "cell_type": "markdown",
   "id": "1ec8ef55",
   "metadata": {},
   "source": [
    "As we can see, for both two-sided or one-sided test, the Test statistics ($F$) is outside of the ciritcal region. Therefore, we can reject the null hypothesis ($H_{0}: b=0$)"
   ]
  },
  {
   "cell_type": "code",
   "execution_count": 18,
   "id": "bee0e443",
   "metadata": {},
   "outputs": [
    {
     "name": "stdout",
     "output_type": "stream",
     "text": [
      "p_value = 0.000\n"
     ]
    }
   ],
   "source": [
    "p_value = 1 - stats.f.cdf(F, dfn=dof, dfd=dof)\n",
    "print (f'p_value = {p_value:.3f}')"
   ]
  },
  {
   "cell_type": "markdown",
   "id": "9d6b1b16",
   "metadata": {},
   "source": [
    "#### As we know, F-test may not be the most suitable method to perfrom trend test for time series since 'time' is not normally distributed.  Alternatively, we may try to do _non-parametric Mann-Kendall test_. "
   ]
  },
  {
   "cell_type": "markdown",
   "id": "0e58a9ac",
   "metadata": {},
   "source": [
    "##### 2.3. (10%) Please check if there is seasonality and autocorrelation in the annual rainfall time series using ACF plot."
   ]
  },
  {
   "cell_type": "code",
   "execution_count": 19,
   "id": "188eb7e6",
   "metadata": {},
   "outputs": [
    {
     "data": {
      "image/png": "[encoded data removed]",
      "text/plain": [
       "<Figure size 720x216 with 1 Axes>"
      ]
     },
     "metadata": {
      "needs_background": "light"
     },
     "output_type": "display_data"
    }
   ],
   "source": [
    "fig, ax = plt.subplots(figsize=(10, 3))\n",
    "sm.graphics.tsa.plot_acf(rain, lags=48, ax=ax);"
   ]
  },
  {
   "cell_type": "markdown",
   "id": "ec338e89",
   "metadata": {},
   "source": [
    "From the ACF plot, some very minor autocorrelation can be seen at the first lag. Because it is really minor, we may ignore it and thus assume that there is no autocorrelation. \n",
    "\n",
    "In the original time series plot, we don't see clear regular or repetitive patterns. \n",
    "\n",
    "In the ACF plot, when there is a strong seasonality, the ACF plot usually reveals definitive repeated spikes at the multiples of the seasonal window. Here, we only see really minor repeated spikes (the period is around 1 week, or 7 days), and we may ignore it. So, we assume that there is no seasonality. \n",
    "\n",
    "So, we can simply the Original Mann Kendall test, which doesn't consider auto-correlation or seasonality."
   ]
  },
  {
   "cell_type": "markdown",
   "id": "e7988944",
   "metadata": {},
   "source": [
    "##### 2.4. (10%) Based upon the above checks, apply a suitable version of the _non-parametric Mann-Kendall test_ to performing time series trend test ($\\alpha = 0.01$) and print the result."
   ]
  },
  {
   "cell_type": "code",
   "execution_count": 20,
   "id": "5512ac5e",
   "metadata": {},
   "outputs": [
    {
     "name": "stdout",
     "output_type": "stream",
     "text": [
      "Mann_Kendall_Test(trend='no trend', h=False, p=0.08316911041430197, z=1.73258694994859, Tau=0.1717687074829932, s=202.0, var_s=13458.666666666666, slope=3.0229772727289284, intercept=753.5985454544652)\n"
     ]
    }
   ],
   "source": [
    "result = mk.original_test(rain)\n",
    "print(result)"
   ]
  },
  {
   "cell_type": "markdown",
   "id": "9c211b27",
   "metadata": {},
   "source": []
  },
  {
   "cell_type": "code",
   "execution_count": 21,
   "id": "9403e9ea",
   "metadata": {},
   "outputs": [
    {
     "data": {
      "image/png": "[encoded data removed]",
      "text/plain": [
       "<Figure size 1000x300 with 1 Axes>"
      ]
     },
     "metadata": {
      "needs_background": "light"
     },
     "output_type": "display_data"
    }
   ],
   "source": [
    "\n",
    "plt.figure(figsize=(10,3), dpi=100)\n",
    "\n",
    "trend_tfb_d = np.arange(len(rain)) * result.slope + result.intercept\n",
    "\n",
    "plt.plot(year, rain, label = 'data')\n",
    "plt.plot(year, trend_tfb_d, label = 'trend')\n",
    "\n",
    "plt.legend(frameon = False);"
   ]
  }
 ],
 "metadata": {
  "kernelspec": {
   "display_name": "Python 3 (ipykernel)",
   "language": "python",
   "name": "python3"
  },
  "language_info": {
   "codemirror_mode": {
    "name": "ipython",
    "version": 3
   },
   "file_extension": ".py",
   "mimetype": "text/x-python",
   "name": "python",
   "nbconvert_exporter": "python",
   "pygments_lexer": "ipython3",
   "version": "3.8.8"
  }
 },
 "nbformat": 4,
 "nbformat_minor": 5
}
